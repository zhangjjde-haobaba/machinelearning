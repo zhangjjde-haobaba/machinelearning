{
 "cells": [
  {
   "cell_type": "markdown",
   "id": "c51eea88",
   "metadata": {},
   "source": [
    "# COMP5318 Assignment 2: Image Classification"
   ]
  },
  {
   "cell_type": "markdown",
   "id": "473e661d",
   "metadata": {},
   "source": [
    "### Group number: ...  , SID1: ... , SID2: ...  "
   ]
  },
  {
   "cell_type": "markdown",
   "id": "26927c4c",
   "metadata": {},
   "source": [
    "This notebook includes the code to load the Fashion-MNIST dataset using Keras, and a skeleton for the main sections that should be included in the notebook. Please see the assignment specification for more detail. You may wish to add extra subsections where appropriate. \n",
    "\n",
    "Please focus on making your code clear, with appropriate variable names and whitespace. Include comments and markdown text to aid the readability of your code where relevant."
   ]
  },
  {
   "cell_type": "markdown",
   "id": "b29b2d9d",
   "metadata": {},
   "source": [
    "## Setup and dependencies\n",
    "Please use this section to list and set up all your required libraries/dependencies and your plotting environment. "
   ]
  },
  {
   "cell_type": "code",
   "execution_count": 1,
   "id": "163ee5d7",
   "metadata": {},
   "outputs": [],
   "source": [
    "import numpy as np\n",
    "import tensorflow as tf\n",
    "from tensorflow import keras\n",
    "import matplotlib.pyplot as plt"
   ]
  },
  {
   "cell_type": "markdown",
   "id": "afab86e6",
   "metadata": {},
   "source": [
    "## 1. Data loading, preprocessing, and exploration\n",
    "We have included the code to load the dataset below. Please proceed with your data exploration and preprocessing steps, including creating any relevant data subsets required. The documentation for the data loading function can be accessed [here](https://keras.io/api/datasets/fashion_mnist/)."
   ]
  },
  {
   "cell_type": "code",
   "execution_count": 2,
   "id": "321149d0",
   "metadata": {},
   "outputs": [],
   "source": [
    "# Load the Fashion-MNIST dataset training and test sets as numpy arrays\n",
    "(X_train, y_train), (X_test, y_test) = keras.datasets.fashion_mnist.load_data()\n",
    "assert X_train.shape == (60000, 28, 28)\n",
    "assert X_test.shape == (10000, 28, 28)\n",
    "assert y_train.shape == (60000,)\n",
    "assert y_test.shape == (10000,)"
   ]
  },
  {
   "cell_type": "code",
   "execution_count": 3,
   "id": "6ddc00ce",
   "metadata": {},
   "outputs": [],
   "source": [
    "# An ordered list of the class names\n",
    "class_names = [\"T-shirt/top\",\n",
    "               \"Trouser\",\n",
    "               \"Pullover\",\n",
    "               \"Dress\",\n",
    "               \"Coat\",\n",
    "               \"Sandal\",\n",
    "               \"Shirt\",\n",
    "               \"Sneaker\",\n",
    "               \"Bag\",\n",
    "               \"Ankle boot\"\n",
    "              ]"
   ]
  },
  {
   "cell_type": "markdown",
   "id": "78982c09",
   "metadata": {},
   "source": [
    "## 2. Algorithm design and setup"
   ]
  },
  {
   "cell_type": "markdown",
   "id": "75cb5558",
   "metadata": {},
   "source": [
    "### Algorithm of choice from first six weeks of course"
   ]
  },
  {
   "cell_type": "code",
   "execution_count": 4,
   "id": "ce39f96e",
   "metadata": {},
   "outputs": [
    {
     "data": {
      "image/png": "[encoded data removed]",
      "text/plain": [
       "<Figure size 432x288 with 1 Axes>"
      ]
     },
     "metadata": {
      "needs_background": "light"
     },
     "output_type": "display_data"
    }
   ],
   "source": [
    "#keep models appropriately small\n",
    "number=10000\n",
    "X_train = X_train[0:number]\n",
    "y_train = y_train[0:number]\n",
    "\n",
    "#check the image\n",
    "def show_single_image(img_dir):\n",
    "    plt.imshow(img_dir, cmap=\"binary\")\n",
    "    plt.show()\n",
    "\n",
    "show_single_image(X_train[0])\n",
    "\n"
   ]
  },
  {
   "cell_type": "code",
   "execution_count": 5,
   "id": "eeca9441",
   "metadata": {},
   "outputs": [],
   "source": [
    "X_train = X_train.reshape(number, 28 * 28)\n",
    "X_test = X_test.reshape(X_test.shape[0], 28 * 28)"
   ]
  },
  {
   "cell_type": "code",
   "execution_count": 6,
   "id": "7e84b607",
   "metadata": {},
   "outputs": [
    {
     "name": "stdout",
     "output_type": "stream",
     "text": [
      "Accuracy on test set: 0.81\n"
     ]
    }
   ],
   "source": [
    "#KNN\n",
    "from sklearn.neighbors import KNeighborsClassifier\n",
    "knn = KNeighborsClassifier(n_neighbors=3)\n",
    "knn.fit(X_train, y_train)\n",
    "print(\"Accuracy on test set: {:.2f}\".format(knn.score(X_test, y_test)))"
   ]
  },
  {
   "cell_type": "markdown",
   "id": "da7fef9d",
   "metadata": {},
   "source": [
    "### Fully connected neural network"
   ]
  },
  {
   "cell_type": "code",
   "execution_count": 40,
   "id": "da375e46",
   "metadata": {},
   "outputs": [],
   "source": [
    "\n",
    "# Making sure that the values are float so that we can get decimal points after division\n",
    "X_train = X_train.astype('float32')\n",
    "X_test = X_test.astype('float32')\n",
    "# Scale the data to the range 0-1\n",
    "X_train /= 255\n",
    "X_test /= 255\n",
    "\n"
   ]
  },
  {
   "cell_type": "code",
   "execution_count": 41,
   "id": "201bc9ae",
   "metadata": {},
   "outputs": [],
   "source": [
    "model = keras.Sequential([\n",
    "    \n",
    "    # Specify the input shape\n",
    "    keras.Input(shape=784),\n",
    "    \n",
    "    keras.layers.Dense(256, activation=\"relu\"),\n",
    "    keras.layers.Dense(128, activation=\"relu\"),\n",
    "    keras.layers.Dense(32, activation=\"relu\"),\n",
    "    keras.layers.Dense(10, activation=\"relu\"),\n",
    "    keras.layers.Dropout(0.5),\n",
    "    keras.layers.Dense(10, activation=\"softmax\"),\n",
    "])"
   ]
  },
  {
   "cell_type": "code",
   "execution_count": 42,
   "id": "3f3c28aa",
   "metadata": {},
   "outputs": [],
   "source": [
    "model.compile(loss='sparse_categorical_crossentropy',\n",
    "              optimizer=\"adam\",\n",
    "              metrics=['accuracy'])"
   ]
  },
  {
   "cell_type": "code",
   "execution_count": 10,
   "id": "0ae3283f",
   "metadata": {},
   "outputs": [
    {
     "name": "stdout",
     "output_type": "stream",
     "text": [
      "Epoch 1/10\n",
      "79/79 [==============================] - 1s 6ms/step - loss: 1.7857 - accuracy: 0.2933 - val_loss: 1.2490 - val_accuracy: 0.5982\n",
      "Epoch 2/10\n",
      "79/79 [==============================] - 0s 4ms/step - loss: 1.4708 - accuracy: 0.4217 - val_loss: 0.8898 - val_accuracy: 0.7400\n",
      "Epoch 3/10\n",
      "79/79 [==============================] - 0s 3ms/step - loss: 1.3143 - accuracy: 0.5048 - val_loss: 0.7878 - val_accuracy: 0.7798\n",
      "Epoch 4/10\n",
      "79/79 [==============================] - 0s 3ms/step - loss: 1.2757 - accuracy: 0.5068 - val_loss: 0.7742 - val_accuracy: 0.7733\n",
      "Epoch 5/10\n",
      "79/79 [==============================] - 0s 4ms/step - loss: 1.2361 - accuracy: 0.5236 - val_loss: 0.7023 - val_accuracy: 0.7833\n",
      "Epoch 6/10\n",
      "79/79 [==============================] - 0s 3ms/step - loss: 1.1810 - accuracy: 0.5360 - val_loss: 0.6762 - val_accuracy: 0.7840\n",
      "Epoch 7/10\n",
      "79/79 [==============================] - 0s 3ms/step - loss: 1.1712 - accuracy: 0.5319 - val_loss: 0.6856 - val_accuracy: 0.7903\n",
      "Epoch 8/10\n",
      "79/79 [==============================] - 0s 4ms/step - loss: 1.1446 - accuracy: 0.5403 - val_loss: 0.6356 - val_accuracy: 0.8010\n",
      "Epoch 9/10\n",
      "79/79 [==============================] - 0s 4ms/step - loss: 1.1274 - accuracy: 0.5444 - val_loss: 0.6472 - val_accuracy: 0.8045\n",
      "Epoch 10/10\n",
      "79/79 [==============================] - 0s 3ms/step - loss: 1.1198 - accuracy: 0.5527 - val_loss: 0.6458 - val_accuracy: 0.7996\n"
     ]
    }
   ],
   "source": [
    "batch_size = 128\n",
    "epochs = 10\n",
    "history = model.fit(X_train, y_train, batch_size=batch_size,\n",
    "                    epochs=epochs, validation_data=(X_test, y_test))"
   ]
  },
  {
   "cell_type": "code",
   "execution_count": 43,
   "id": "165b1110",
   "metadata": {},
   "outputs": [
    {
     "name": "stdout",
     "output_type": "stream",
     "text": [
      "313/313 [==============================] - 1s 1ms/step - loss: 2.3025 - accuracy: 0.0903\n",
      "Accuracy on test data: 0.0903\n"
     ]
    }
   ],
   "source": [
    "# Evaluate the classifier on the test data.\n",
    "loss, accuracy = model.evaluate(X_test, y_test)\n",
    "print(f\"Accuracy on test data: {accuracy:.4f}\")"
   ]
  },
  {
   "cell_type": "code",
   "execution_count": 45,
   "id": "d646174a",
   "metadata": {},
   "outputs": [
    {
     "data": {
      "text/plain": [
       "<AxesSubplot:>"
      ]
     },
     "execution_count": 45,
     "metadata": {},
     "output_type": "execute_result"
    },
    {
     "data": {
      "image/png": "[encoded data removed]",
      "text/plain": [
       "<Figure size 576x360 with 1 Axes>"
      ]
     },
     "metadata": {
      "needs_background": "light"
     },
     "output_type": "display_data"
    }
   ],
   "source": [
    "import pandas as pd\n",
    "# Convert the history dictionary to a Pandas dataframe and extract the accuracies\n",
    "accuracies = pd.DataFrame(history.history)[['accuracy', 'val_accuracy']]\n",
    "\n",
    "# Plot the accuracies\n",
    "accuracies.plot(figsize=(8, 5))\n",
    "# plt.grid(True)\n",
    "# plt.gca().set_ylim(0.5, 1)\n",
    "# plt.xlabel('Epoch')\n",
    "# plt.show()"
   ]
  },
  {
   "cell_type": "markdown",
   "id": "fb200656",
   "metadata": {},
   "source": [
    "### Convolutional neural network"
   ]
  },
  {
   "cell_type": "code",
   "execution_count": 13,
   "id": "900456c5",
   "metadata": {},
   "outputs": [],
   "source": [
    "model = keras.Sequential([\n",
    "    \n",
    "    # Specify the input shape\n",
    "    keras.Input(shape=784),\n",
    "    \n",
    "    #reshape tensor\n",
    "    keras.layers.Reshape((28,28,1)),\n",
    "    # Conv and pool block 1\n",
    "    keras.layers.Conv2D(32, kernel_size=(3, 3), activation=\"relu\"),\n",
    "    keras.layers.MaxPooling2D(pool_size=(2, 2)),\n",
    "    \n",
    "    # Conv and pool block 2\n",
    "    keras.layers.Conv2D(64, kernel_size=(3, 3), activation=\"relu\"),\n",
    "    keras.layers.MaxPooling2D(pool_size=(2, 2)),\n",
    "    \n",
    "    # Flatten and classify using dense output layer\n",
    "    keras.layers.Flatten(),\n",
    "    keras.layers.Dropout(0.5),\n",
    "    keras.layers.Dense(10, activation=\"softmax\"),\n",
    "])"
   ]
  },
  {
   "cell_type": "code",
   "execution_count": 14,
   "id": "26790a1b",
   "metadata": {},
   "outputs": [],
   "source": [
    "model.compile(loss='sparse_categorical_crossentropy',\n",
    "              optimizer=\"adam\",\n",
    "              metrics=['accuracy'])"
   ]
  },
  {
   "cell_type": "code",
   "execution_count": 15,
   "id": "652cf910",
   "metadata": {},
   "outputs": [
    {
     "name": "stdout",
     "output_type": "stream",
     "text": [
      "Epoch 1/10\n",
      "79/79 [==============================] - 4s 42ms/step - loss: 1.2394 - accuracy: 0.5635 - val_loss: 0.7155 - val_accuracy: 0.7417\n",
      "Epoch 2/10\n",
      "79/79 [==============================] - 3s 40ms/step - loss: 0.6862 - accuracy: 0.7494 - val_loss: 0.5979 - val_accuracy: 0.7854\n",
      "Epoch 3/10\n",
      "79/79 [==============================] - 4s 51ms/step - loss: 0.5829 - accuracy: 0.7843 - val_loss: 0.5494 - val_accuracy: 0.8017\n",
      "Epoch 4/10\n",
      "79/79 [==============================] - 4s 50ms/step - loss: 0.5384 - accuracy: 0.8014 - val_loss: 0.5086 - val_accuracy: 0.8171\n",
      "Epoch 5/10\n",
      "79/79 [==============================] - 3s 43ms/step - loss: 0.5070 - accuracy: 0.8158 - val_loss: 0.4828 - val_accuracy: 0.8271\n",
      "Epoch 6/10\n",
      "79/79 [==============================] - 4s 47ms/step - loss: 0.4885 - accuracy: 0.8230 - val_loss: 0.4662 - val_accuracy: 0.8349\n",
      "Epoch 7/10\n",
      "79/79 [==============================] - 3s 42ms/step - loss: 0.4719 - accuracy: 0.8293 - val_loss: 0.4558 - val_accuracy: 0.8367\n",
      "Epoch 8/10\n",
      "79/79 [==============================] - 4s 45ms/step - loss: 0.4467 - accuracy: 0.8388 - val_loss: 0.4408 - val_accuracy: 0.8459\n",
      "Epoch 9/10\n",
      "79/79 [==============================] - 3s 44ms/step - loss: 0.4334 - accuracy: 0.8458 - val_loss: 0.4311 - val_accuracy: 0.8471\n",
      "Epoch 10/10\n",
      "79/79 [==============================] - 4s 45ms/step - loss: 0.4207 - accuracy: 0.8489 - val_loss: 0.4304 - val_accuracy: 0.8486\n"
     ]
    }
   ],
   "source": [
    "batch_size = 128\n",
    "epochs = 10\n",
    "history = model.fit(X_train, y_train, batch_size=batch_size,\n",
    "                    epochs=epochs, validation_data=(X_test, y_test))"
   ]
  },
  {
   "cell_type": "code",
   "execution_count": 16,
   "id": "85ca9eca",
   "metadata": {},
   "outputs": [
    {
     "name": "stdout",
     "output_type": "stream",
     "text": [
      "313/313 [==============================] - 1s 3ms/step - loss: 0.4304 - accuracy: 0.8486\n",
      "Accuracy on test data: 0.8486\n"
     ]
    }
   ],
   "source": [
    "# Evaluate the classifier on the test data.\n",
    "loss, accuracy = model.evaluate(X_test, y_test)\n",
    "print(f\"Accuracy on test data: {accuracy:.4f}\")"
   ]
  },
  {
   "cell_type": "markdown",
   "id": "d59b9654",
   "metadata": {},
   "source": [
    "## 3. Hyperparameter tuning"
   ]
  },
  {
   "cell_type": "markdown",
   "id": "69035b5d",
   "metadata": {},
   "source": [
    "### Algorithm of choice from first six weeks of course"
   ]
  },
  {
   "cell_type": "code",
   "execution_count": 17,
   "id": "de1b7d43",
   "metadata": {},
   "outputs": [
    {
     "name": "stdout",
     "output_type": "stream",
     "text": [
      "Accuracy on test set: 0.8215\n"
     ]
    }
   ],
   "source": [
    "from sklearn.model_selection import GridSearchCV\n",
    "param_grid = {'n_neighbors':[2,3,4,5,6,7]}\n",
    "knn2 = KNeighborsClassifier()\n",
    "estimator=GridSearchCV(knn2,param_grid=param_grid,cv=10)\n",
    "estimator.fit(X_train, y_train)\n",
    "print(\"Accuracy on test set: {:.4f}\".format(estimator.score(X_test, y_test)))"
   ]
  },
  {
   "cell_type": "code",
   "execution_count": 18,
   "id": "059c7041",
   "metadata": {},
   "outputs": [
    {
     "name": "stdout",
     "output_type": "stream",
     "text": [
      "0.825 {'n_neighbors': 6}\n"
     ]
    }
   ],
   "source": [
    "print(estimator.best_score_,estimator.best_params_)"
   ]
  },
  {
   "cell_type": "markdown",
   "id": "96d9e9e2",
   "metadata": {},
   "source": [
    "### Fully connected neural network"
   ]
  },
  {
   "cell_type": "code",
   "execution_count": 19,
   "id": "c0d34c64",
   "metadata": {},
   "outputs": [],
   "source": [
    "def build_mlp(n_hidden_layers=3, n_hidden_neurons=50, activation_function=\"relu\"):\n",
    "    \n",
    "    model = keras.models.Sequential()\n",
    "    model.add(keras.layers.Dense(n_hidden_neurons,activation=activation_function, input_shape=(784,)))\n",
    "    for layer in range(n_hidden_layers):\n",
    "        model.add(keras.layers.Dense(n_hidden_neurons, activation=activation_function))\n",
    "    model.add(keras.layers.Dense(10, activation=\"softmax\"))\n",
    "\n",
    "    return model"
   ]
  },
  {
   "cell_type": "code",
   "execution_count": 20,
   "id": "42f645b2",
   "metadata": {},
   "outputs": [],
   "source": [
    "from scikeras.wrappers import KerasClassifier\n",
    "keras_classifier = KerasClassifier(build_mlp,\n",
    "                                   n_hidden_layers=2,\n",
    "#                                    n_hidden_neurons=50,\n",
    "                                   activation_function=\"relu\",\n",
    "                                   loss=\"sparse_categorical_crossentropy\",\n",
    "                                   optimizer=\"sgd\",\n",
    "                                   optimizer__lr=0.01,\n",
    "                                   metrics=[\"accuracy\"]\n",
    "                                  )"
   ]
  },
  {
   "cell_type": "code",
   "execution_count": 21,
   "id": "f9cf1687",
   "metadata": {},
   "outputs": [
    {
     "name": "stderr",
     "output_type": "stream",
     "text": [
      "/Users/jiangyiwei/opt/anaconda3/lib/python3.9/site-packages/keras/optimizer_v2/gradient_descent.py:102: UserWarning: The `lr` argument is deprecated, use `learning_rate` instead.\n",
      "  super(SGD, self).__init__(name, **kwargs)\n"
     ]
    },
    {
     "name": "stdout",
     "output_type": "stream",
     "text": [
      "Epoch 1/2\n",
      "157/157 [==============================] - 0s 1ms/step - loss: 1.1869 - accuracy: 0.5684\n",
      "Epoch 2/2\n",
      "157/157 [==============================] - 0s 1ms/step - loss: 0.7296 - accuracy: 0.7110\n",
      "157/157 [==============================] - 0s 595us/step\n",
      "Epoch 1/2\n"
     ]
    },
    {
     "name": "stderr",
     "output_type": "stream",
     "text": [
      "/Users/jiangyiwei/opt/anaconda3/lib/python3.9/site-packages/keras/optimizer_v2/gradient_descent.py:102: UserWarning: The `lr` argument is deprecated, use `learning_rate` instead.\n",
      "  super(SGD, self).__init__(name, **kwargs)\n"
     ]
    },
    {
     "name": "stdout",
     "output_type": "stream",
     "text": [
      "157/157 [==============================] - 0s 920us/step - loss: 1.1805 - accuracy: 0.5716\n",
      "Epoch 2/2\n",
      "157/157 [==============================] - 0s 974us/step - loss: 0.7302 - accuracy: 0.7304\n",
      "157/157 [==============================] - 0s 612us/step\n",
      "Epoch 1/2\n"
     ]
    },
    {
     "name": "stderr",
     "output_type": "stream",
     "text": [
      "/Users/jiangyiwei/opt/anaconda3/lib/python3.9/site-packages/keras/optimizer_v2/gradient_descent.py:102: UserWarning: The `lr` argument is deprecated, use `learning_rate` instead.\n",
      "  super(SGD, self).__init__(name, **kwargs)\n"
     ]
    },
    {
     "name": "stdout",
     "output_type": "stream",
     "text": [
      "157/157 [==============================] - 0s 891us/step - loss: 1.9619 - accuracy: 0.3372\n",
      "Epoch 2/2\n",
      "157/157 [==============================] - 0s 883us/step - loss: 1.2444 - accuracy: 0.6004\n",
      "157/157 [==============================] - 0s 656us/step\n",
      "Epoch 1/2\n"
     ]
    },
    {
     "name": "stderr",
     "output_type": "stream",
     "text": [
      "/Users/jiangyiwei/opt/anaconda3/lib/python3.9/site-packages/keras/optimizer_v2/gradient_descent.py:102: UserWarning: The `lr` argument is deprecated, use `learning_rate` instead.\n",
      "  super(SGD, self).__init__(name, **kwargs)\n"
     ]
    },
    {
     "name": "stdout",
     "output_type": "stream",
     "text": [
      "157/157 [==============================] - 0s 989us/step - loss: 1.8972 - accuracy: 0.3804\n",
      "Epoch 2/2\n",
      "157/157 [==============================] - 0s 991us/step - loss: 1.1077 - accuracy: 0.6414\n",
      "157/157 [==============================] - 0s 613us/step\n",
      "Epoch 1/2\n"
     ]
    },
    {
     "name": "stderr",
     "output_type": "stream",
     "text": [
      "/Users/jiangyiwei/opt/anaconda3/lib/python3.9/site-packages/keras/optimizer_v2/gradient_descent.py:102: UserWarning: The `lr` argument is deprecated, use `learning_rate` instead.\n",
      "  super(SGD, self).__init__(name, **kwargs)\n"
     ]
    },
    {
     "name": "stdout",
     "output_type": "stream",
     "text": [
      "157/157 [==============================] - 0s 952us/step - loss: 2.2647 - accuracy: 0.1468\n",
      "Epoch 2/2\n",
      "157/157 [==============================] - 0s 1ms/step - loss: 2.1769 - accuracy: 0.2574\n",
      "157/157 [==============================] - 0s 696us/step\n",
      "Epoch 1/2\n"
     ]
    },
    {
     "name": "stderr",
     "output_type": "stream",
     "text": [
      "/Users/jiangyiwei/opt/anaconda3/lib/python3.9/site-packages/keras/optimizer_v2/gradient_descent.py:102: UserWarning: The `lr` argument is deprecated, use `learning_rate` instead.\n",
      "  super(SGD, self).__init__(name, **kwargs)\n"
     ]
    },
    {
     "name": "stdout",
     "output_type": "stream",
     "text": [
      "157/157 [==============================] - 0s 919us/step - loss: 2.3126 - accuracy: 0.1028\n",
      "Epoch 2/2\n",
      "157/157 [==============================] - 0s 918us/step - loss: 2.2487 - accuracy: 0.2170\n",
      "157/157 [==============================] - 0s 789us/step\n",
      "Epoch 1/2\n"
     ]
    },
    {
     "name": "stderr",
     "output_type": "stream",
     "text": [
      "/Users/jiangyiwei/opt/anaconda3/lib/python3.9/site-packages/keras/optimizer_v2/gradient_descent.py:102: UserWarning: The `lr` argument is deprecated, use `learning_rate` instead.\n",
      "  super(SGD, self).__init__(name, **kwargs)\n"
     ]
    },
    {
     "name": "stdout",
     "output_type": "stream",
     "text": [
      "157/157 [==============================] - 0s 1ms/step - loss: 0.9424 - accuracy: 0.6618\n",
      "Epoch 2/2\n",
      "157/157 [==============================] - 0s 950us/step - loss: 0.6173 - accuracy: 0.7624\n",
      "157/157 [==============================] - 0s 753us/step\n",
      "Epoch 1/2\n"
     ]
    },
    {
     "name": "stderr",
     "output_type": "stream",
     "text": [
      "/Users/jiangyiwei/opt/anaconda3/lib/python3.9/site-packages/keras/optimizer_v2/gradient_descent.py:102: UserWarning: The `lr` argument is deprecated, use `learning_rate` instead.\n",
      "  super(SGD, self).__init__(name, **kwargs)\n"
     ]
    },
    {
     "name": "stdout",
     "output_type": "stream",
     "text": [
      "157/157 [==============================] - 0s 900us/step - loss: 0.9112 - accuracy: 0.6758\n",
      "Epoch 2/2\n",
      "157/157 [==============================] - 0s 897us/step - loss: 0.5976 - accuracy: 0.7824\n",
      "157/157 [==============================] - 0s 597us/step\n",
      "Epoch 1/2\n"
     ]
    },
    {
     "name": "stderr",
     "output_type": "stream",
     "text": [
      "/Users/jiangyiwei/opt/anaconda3/lib/python3.9/site-packages/keras/optimizer_v2/gradient_descent.py:102: UserWarning: The `lr` argument is deprecated, use `learning_rate` instead.\n",
      "  super(SGD, self).__init__(name, **kwargs)\n"
     ]
    },
    {
     "name": "stdout",
     "output_type": "stream",
     "text": [
      "157/157 [==============================] - 0s 1ms/step - loss: 1.5447 - accuracy: 0.5246\n",
      "Epoch 2/2\n",
      "157/157 [==============================] - 0s 904us/step - loss: 1.0687 - accuracy: 0.6640\n",
      "157/157 [==============================] - 0s 626us/step\n",
      "Epoch 1/2\n"
     ]
    },
    {
     "name": "stderr",
     "output_type": "stream",
     "text": [
      "/Users/jiangyiwei/opt/anaconda3/lib/python3.9/site-packages/keras/optimizer_v2/gradient_descent.py:102: UserWarning: The `lr` argument is deprecated, use `learning_rate` instead.\n",
      "  super(SGD, self).__init__(name, **kwargs)\n"
     ]
    },
    {
     "name": "stdout",
     "output_type": "stream",
     "text": [
      "157/157 [==============================] - 0s 916us/step - loss: 1.6793 - accuracy: 0.4984\n",
      "Epoch 2/2\n",
      "157/157 [==============================] - 0s 1ms/step - loss: 1.0784 - accuracy: 0.6642\n",
      "157/157 [==============================] - 0s 675us/step\n",
      "Epoch 1/2\n"
     ]
    },
    {
     "name": "stderr",
     "output_type": "stream",
     "text": [
      "/Users/jiangyiwei/opt/anaconda3/lib/python3.9/site-packages/keras/optimizer_v2/gradient_descent.py:102: UserWarning: The `lr` argument is deprecated, use `learning_rate` instead.\n",
      "  super(SGD, self).__init__(name, **kwargs)\n"
     ]
    },
    {
     "name": "stdout",
     "output_type": "stream",
     "text": [
      "157/157 [==============================] - 0s 990us/step - loss: 2.2649 - accuracy: 0.2058\n",
      "Epoch 2/2\n",
      "157/157 [==============================] - 0s 926us/step - loss: 2.0312 - accuracy: 0.3932\n",
      "157/157 [==============================] - 0s 638us/step\n",
      "Epoch 1/2\n"
     ]
    },
    {
     "name": "stderr",
     "output_type": "stream",
     "text": [
      "/Users/jiangyiwei/opt/anaconda3/lib/python3.9/site-packages/keras/optimizer_v2/gradient_descent.py:102: UserWarning: The `lr` argument is deprecated, use `learning_rate` instead.\n",
      "  super(SGD, self).__init__(name, **kwargs)\n"
     ]
    },
    {
     "name": "stdout",
     "output_type": "stream",
     "text": [
      "157/157 [==============================] - 0s 933us/step - loss: 2.1992 - accuracy: 0.1988\n",
      "Epoch 2/2\n",
      "157/157 [==============================] - 0s 947us/step - loss: 1.9395 - accuracy: 0.3512\n",
      "157/157 [==============================] - 0s 629us/step\n",
      "Epoch 1/2\n"
     ]
    },
    {
     "name": "stderr",
     "output_type": "stream",
     "text": [
      "/Users/jiangyiwei/opt/anaconda3/lib/python3.9/site-packages/keras/optimizer_v2/gradient_descent.py:102: UserWarning: The `lr` argument is deprecated, use `learning_rate` instead.\n",
      "  super(SGD, self).__init__(name, **kwargs)\n"
     ]
    },
    {
     "name": "stdout",
     "output_type": "stream",
     "text": [
      "157/157 [==============================] - 0s 917us/step - loss: 1.3335 - accuracy: 0.5920\n",
      "Epoch 2/2\n",
      "157/157 [==============================] - 0s 928us/step - loss: 0.6795 - accuracy: 0.7494\n",
      "157/157 [==============================] - 0s 632us/step\n",
      "Epoch 1/2\n"
     ]
    },
    {
     "name": "stderr",
     "output_type": "stream",
     "text": [
      "/Users/jiangyiwei/opt/anaconda3/lib/python3.9/site-packages/keras/optimizer_v2/gradient_descent.py:102: UserWarning: The `lr` argument is deprecated, use `learning_rate` instead.\n",
      "  super(SGD, self).__init__(name, **kwargs)\n"
     ]
    },
    {
     "name": "stdout",
     "output_type": "stream",
     "text": [
      "157/157 [==============================] - 0s 945us/step - loss: nan - accuracy: 0.0958\n",
      "Epoch 2/2\n",
      "157/157 [==============================] - 0s 914us/step - loss: nan - accuracy: 0.0942\n",
      "157/157 [==============================] - 0s 654us/step\n",
      "Epoch 1/2\n"
     ]
    },
    {
     "name": "stderr",
     "output_type": "stream",
     "text": [
      "/Users/jiangyiwei/opt/anaconda3/lib/python3.9/site-packages/keras/optimizer_v2/gradient_descent.py:102: UserWarning: The `lr` argument is deprecated, use `learning_rate` instead.\n",
      "  super(SGD, self).__init__(name, **kwargs)\n"
     ]
    },
    {
     "name": "stdout",
     "output_type": "stream",
     "text": [
      "157/157 [==============================] - 0s 932us/step - loss: 1.2042 - accuracy: 0.6148\n",
      "Epoch 2/2\n",
      "157/157 [==============================] - 0s 929us/step - loss: 0.7591 - accuracy: 0.7448\n",
      "157/157 [==============================] - 0s 810us/step\n",
      "Epoch 1/2\n"
     ]
    },
    {
     "name": "stderr",
     "output_type": "stream",
     "text": [
      "/Users/jiangyiwei/opt/anaconda3/lib/python3.9/site-packages/keras/optimizer_v2/gradient_descent.py:102: UserWarning: The `lr` argument is deprecated, use `learning_rate` instead.\n",
      "  super(SGD, self).__init__(name, **kwargs)\n"
     ]
    },
    {
     "name": "stdout",
     "output_type": "stream",
     "text": [
      "157/157 [==============================] - 0s 1ms/step - loss: 1.2548 - accuracy: 0.5738\n",
      "Epoch 2/2\n",
      "157/157 [==============================] - 0s 1ms/step - loss: 0.7759 - accuracy: 0.7326\n",
      "157/157 [==============================] - 0s 804us/step\n",
      "Epoch 1/2\n"
     ]
    },
    {
     "name": "stderr",
     "output_type": "stream",
     "text": [
      "/Users/jiangyiwei/opt/anaconda3/lib/python3.9/site-packages/keras/optimizer_v2/gradient_descent.py:102: UserWarning: The `lr` argument is deprecated, use `learning_rate` instead.\n",
      "  super(SGD, self).__init__(name, **kwargs)\n"
     ]
    },
    {
     "name": "stdout",
     "output_type": "stream",
     "text": [
      "157/157 [==============================] - 0s 987us/step - loss: 2.0659 - accuracy: 0.2434\n",
      "Epoch 2/2\n",
      "157/157 [==============================] - 0s 1ms/step - loss: 1.6313 - accuracy: 0.4820\n",
      "157/157 [==============================] - 0s 643us/step\n",
      "Epoch 1/2\n"
     ]
    },
    {
     "name": "stderr",
     "output_type": "stream",
     "text": [
      "/Users/jiangyiwei/opt/anaconda3/lib/python3.9/site-packages/keras/optimizer_v2/gradient_descent.py:102: UserWarning: The `lr` argument is deprecated, use `learning_rate` instead.\n",
      "  super(SGD, self).__init__(name, **kwargs)\n"
     ]
    },
    {
     "name": "stdout",
     "output_type": "stream",
     "text": [
      "157/157 [==============================] - 0s 1ms/step - loss: 2.0978 - accuracy: 0.2698\n",
      "Epoch 2/2\n",
      "157/157 [==============================] - 0s 1ms/step - loss: 1.6507 - accuracy: 0.5150\n",
      "157/157 [==============================] - 0s 676us/step\n",
      "Epoch 1/2\n"
     ]
    },
    {
     "name": "stderr",
     "output_type": "stream",
     "text": [
      "/Users/jiangyiwei/opt/anaconda3/lib/python3.9/site-packages/keras/optimizer_v2/gradient_descent.py:102: UserWarning: The `lr` argument is deprecated, use `learning_rate` instead.\n",
      "  super(SGD, self).__init__(name, **kwargs)\n"
     ]
    },
    {
     "name": "stdout",
     "output_type": "stream",
     "text": [
      "313/313 [==============================] - 1s 1ms/step - loss: 0.7479 - accuracy: 0.7286\n",
      "Epoch 2/2\n",
      "313/313 [==============================] - 0s 1ms/step - loss: 0.5230 - accuracy: 0.8079\n"
     ]
    },
    {
     "data": {
      "text/plain": [
       "GridSearchCV(cv=2,\n",
       "             estimator=KerasClassifier(activation_function='relu', loss='sparse_categorical_crossentropy', metrics=['accuracy'], model=<function build_mlp at 0x7fdc55431430>, n_hidden_layers=2, optimizer='sgd', optimizer__lr=0.01),\n",
       "             param_grid={'activation_function': ['relu', 'tanh', None],\n",
       "                         'optimizer__lr': [0.1, 0.01, 0.001]})"
      ]
     },
     "execution_count": 21,
     "metadata": {},
     "output_type": "execute_result"
    }
   ],
   "source": [
    "param_grid = {\n",
    "#     \"n_hidden_neurons\": [100, 200],\n",
    "    \"optimizer__lr\": [0.1, 0.01, 0.001],\n",
    "    \"activation_function\": [\"relu\", \"tanh\",None]\n",
    "}\n",
    "grid_search_cv = GridSearchCV(keras_classifier, param_grid, cv=2)\n",
    "grid_search_cv.fit(X_train, y_train, epochs=2)"
   ]
  },
  {
   "cell_type": "code",
   "execution_count": 22,
   "id": "8abc2ef2",
   "metadata": {},
   "outputs": [
    {
     "name": "stdout",
     "output_type": "stream",
     "text": [
      "313/313 [==============================] - 0s 1ms/step\n",
      "Accuracy on test set: 0.7673\n"
     ]
    }
   ],
   "source": [
    "print(\"Accuracy on test set: {:.4f}\".format(grid_search_cv.score(X_test, y_test)))"
   ]
  },
  {
   "cell_type": "code",
   "execution_count": 23,
   "id": "c642c5cf",
   "metadata": {},
   "outputs": [
    {
     "name": "stdout",
     "output_type": "stream",
     "text": [
      "0.7689 {'activation_function': 'tanh', 'optimizer__lr': 0.1}\n"
     ]
    }
   ],
   "source": [
    "print(grid_search_cv.best_score_, grid_search_cv.best_params_)"
   ]
  },
  {
   "cell_type": "code",
   "execution_count": 24,
   "id": "739d1e97",
   "metadata": {},
   "outputs": [
    {
     "data": {
      "text/plain": [
       "{'mean_fit_time': array([0.68792391, 0.63219309, 0.64731145, 0.64176059, 0.6354785 ,\n",
       "        0.63243949, 0.6222204 , 0.66818094, 0.68617725]),\n",
       " 'std_fit_time': array([0.05693102, 0.01622009, 0.00667453, 0.01693559, 0.01378036,\n",
       "        0.00779068, 0.0005554 , 0.04719687, 0.01792717]),\n",
       " 'mean_score_time': array([0.18512869, 0.16959453, 0.19010448, 0.17723453, 0.30800605,\n",
       "        0.17096162, 0.17318153, 0.20115757, 0.17747283]),\n",
       " 'std_score_time': array([0.01603341, 0.00444341, 0.00405955, 0.0135144 , 0.13814425,\n",
       "        0.00174928, 0.00188947, 0.00158954, 0.00349879]),\n",
       " 'param_activation_function': masked_array(data=['relu', 'relu', 'relu', 'tanh', 'tanh', 'tanh', None,\n",
       "                    None, None],\n",
       "              mask=[False, False, False, False, False, False, False, False,\n",
       "                    False],\n",
       "        fill_value='?',\n",
       "             dtype=object),\n",
       " 'param_optimizer__lr': masked_array(data=[0.1, 0.01, 0.001, 0.1, 0.01, 0.001, 0.1, 0.01, 0.001],\n",
       "              mask=[False, False, False, False, False, False, False, False,\n",
       "                    False],\n",
       "        fill_value='?',\n",
       "             dtype=object),\n",
       " 'params': [{'activation_function': 'relu', 'optimizer__lr': 0.1},\n",
       "  {'activation_function': 'relu', 'optimizer__lr': 0.01},\n",
       "  {'activation_function': 'relu', 'optimizer__lr': 0.001},\n",
       "  {'activation_function': 'tanh', 'optimizer__lr': 0.1},\n",
       "  {'activation_function': 'tanh', 'optimizer__lr': 0.01},\n",
       "  {'activation_function': 'tanh', 'optimizer__lr': 0.001},\n",
       "  {'activation_function': None, 'optimizer__lr': 0.1},\n",
       "  {'activation_function': None, 'optimizer__lr': 0.01},\n",
       "  {'activation_function': None, 'optimizer__lr': 0.001}],\n",
       " 'split0_test_score': array([0.595 , 0.6084, 0.2892, 0.7456, 0.7104, 0.4704, 0.5186, 0.731 ,\n",
       "        0.532 ]),\n",
       " 'split1_test_score': array([0.6458, 0.6218, 0.2582, 0.7922, 0.6848, 0.3982, 0.0942, 0.7   ,\n",
       "        0.5698]),\n",
       " 'mean_test_score': array([0.6204, 0.6151, 0.2737, 0.7689, 0.6976, 0.4343, 0.3064, 0.7155,\n",
       "        0.5509]),\n",
       " 'std_test_score': array([0.0254, 0.0067, 0.0155, 0.0233, 0.0128, 0.0361, 0.2122, 0.0155,\n",
       "        0.0189]),\n",
       " 'rank_test_score': array([4, 5, 9, 1, 3, 7, 8, 2, 6], dtype=int32)}"
      ]
     },
     "execution_count": 24,
     "metadata": {},
     "output_type": "execute_result"
    }
   ],
   "source": [
    "grid_search_cv.cv_results_"
   ]
  },
  {
   "cell_type": "markdown",
   "id": "a6a11413",
   "metadata": {},
   "source": [
    "### Convolutional neural network"
   ]
  },
  {
   "cell_type": "code",
   "execution_count": 25,
   "id": "225b06e3",
   "metadata": {},
   "outputs": [],
   "source": [
    "def build_cnn(kernel_size=3, strides=2, lr=0.001):\n",
    "    model = keras.models.Sequential()\n",
    "    # Specify the input shape\n",
    "    model.add(keras.Input(shape=784))\n",
    "    \n",
    "    #reshape tensor\n",
    "    model.add(keras.layers.Reshape((28,28,1)))\n",
    "    model.add(keras.layers.Conv2D(16, kernel_size=kernel_size, strides=strides, activation='relu'))\n",
    "    # model.add(keras.layers.MaxPooling2D(pool_size=(2, 2)))\n",
    "    model.add(keras.layers.Conv2D(32, kernel_size=kernel_size, strides=strides, activation='relu'))\n",
    "    model.add(keras.layers.MaxPooling2D(pool_size=(2, 2)))\n",
    "    model.add(keras.layers.Flatten())\n",
    "    model.add(keras.layers.Dropout(0.2))\n",
    "    model.add(keras.layers.Dense(10, activation=\"softmax\"))\n",
    "    # model.compile(\"adam\", \"binary_crossentropy\", metrics=[\"accuracy\"])\n",
    "    model.compile(loss='sparse_categorical_crossentropy',\n",
    "              optimizer=tf.keras.optimizers.Adam(learning_rate=lr),\n",
    "              metrics=['accuracy'])\n",
    "    return model"
   ]
  },
  {
   "cell_type": "code",
   "execution_count": 26,
   "id": "827c1cc9",
   "metadata": {},
   "outputs": [],
   "source": [
    "cnn_model = KerasClassifier(build_fn=build_cnn,kernel_size=2,\n",
    "                  strides=2, lr=0.001)\n"
   ]
  },
  {
   "cell_type": "code",
   "execution_count": 27,
   "id": "51975e6e",
   "metadata": {},
   "outputs": [
    {
     "name": "stderr",
     "output_type": "stream",
     "text": [
      "/Users/jiangyiwei/opt/anaconda3/lib/python3.9/site-packages/scikeras/wrappers.py:301: UserWarning: ``build_fn`` will be renamed to ``model`` in a future release, at which point use of ``build_fn`` will raise an Error instead.\n",
      "  warnings.warn(\n"
     ]
    },
    {
     "name": "stdout",
     "output_type": "stream",
     "text": [
      "Epoch 1/2\n",
      "157/157 [==============================] - 1s 3ms/step - loss: 1.5388 - accuracy: 0.4516\n",
      "Epoch 2/2\n",
      "157/157 [==============================] - 0s 3ms/step - loss: 1.3164 - accuracy: 0.5162\n",
      "157/157 [==============================] - 0s 1ms/step\n",
      "Epoch 1/2\n"
     ]
    },
    {
     "name": "stderr",
     "output_type": "stream",
     "text": [
      "/Users/jiangyiwei/opt/anaconda3/lib/python3.9/site-packages/scikeras/wrappers.py:301: UserWarning: ``build_fn`` will be renamed to ``model`` in a future release, at which point use of ``build_fn`` will raise an Error instead.\n",
      "  warnings.warn(\n"
     ]
    },
    {
     "name": "stdout",
     "output_type": "stream",
     "text": [
      "157/157 [==============================] - 1s 2ms/step - loss: 2.3240 - accuracy: 0.0948\n",
      "Epoch 2/2\n",
      "157/157 [==============================] - 0s 2ms/step - loss: 2.3161 - accuracy: 0.1014\n",
      "157/157 [==============================] - 0s 914us/step\n",
      "Epoch 1/2\n"
     ]
    },
    {
     "name": "stderr",
     "output_type": "stream",
     "text": [
      "/Users/jiangyiwei/opt/anaconda3/lib/python3.9/site-packages/scikeras/wrappers.py:301: UserWarning: ``build_fn`` will be renamed to ``model`` in a future release, at which point use of ``build_fn`` will raise an Error instead.\n",
      "  warnings.warn(\n"
     ]
    },
    {
     "name": "stdout",
     "output_type": "stream",
     "text": [
      "157/157 [==============================] - 0s 1ms/step - loss: 2.3229 - accuracy: 0.0992\n",
      "Epoch 2/2\n",
      "157/157 [==============================] - 0s 1ms/step - loss: 2.3194 - accuracy: 0.0904\n",
      "157/157 [==============================] - 0s 618us/step\n",
      "Epoch 1/2\n"
     ]
    },
    {
     "name": "stderr",
     "output_type": "stream",
     "text": [
      "/Users/jiangyiwei/opt/anaconda3/lib/python3.9/site-packages/scikeras/wrappers.py:301: UserWarning: ``build_fn`` will be renamed to ``model`` in a future release, at which point use of ``build_fn`` will raise an Error instead.\n",
      "  warnings.warn(\n"
     ]
    },
    {
     "name": "stdout",
     "output_type": "stream",
     "text": [
      "157/157 [==============================] - 0s 1ms/step - loss: 1.5590 - accuracy: 0.4066\n",
      "Epoch 2/2\n",
      "157/157 [==============================] - 0s 1ms/step - loss: 1.4172 - accuracy: 0.4562\n",
      "157/157 [==============================] - 0s 612us/step\n",
      "Epoch 1/2\n"
     ]
    },
    {
     "name": "stderr",
     "output_type": "stream",
     "text": [
      "/Users/jiangyiwei/opt/anaconda3/lib/python3.9/site-packages/scikeras/wrappers.py:301: UserWarning: ``build_fn`` will be renamed to ``model`` in a future release, at which point use of ``build_fn`` will raise an Error instead.\n",
      "  warnings.warn(\n"
     ]
    },
    {
     "name": "stdout",
     "output_type": "stream",
     "text": [
      "157/157 [==============================] - 1s 3ms/step - loss: 0.9877 - accuracy: 0.6502\n",
      "Epoch 2/2\n",
      "157/157 [==============================] - 0s 3ms/step - loss: 0.6326 - accuracy: 0.7666\n",
      "157/157 [==============================] - 0s 897us/step\n",
      "Epoch 1/2\n"
     ]
    },
    {
     "name": "stderr",
     "output_type": "stream",
     "text": [
      "/Users/jiangyiwei/opt/anaconda3/lib/python3.9/site-packages/scikeras/wrappers.py:301: UserWarning: ``build_fn`` will be renamed to ``model`` in a future release, at which point use of ``build_fn`` will raise an Error instead.\n",
      "  warnings.warn(\n"
     ]
    },
    {
     "name": "stdout",
     "output_type": "stream",
     "text": [
      "157/157 [==============================] - 1s 2ms/step - loss: 0.9297 - accuracy: 0.6642\n",
      "Epoch 2/2\n",
      "157/157 [==============================] - 0s 2ms/step - loss: 0.6154 - accuracy: 0.7756\n",
      "157/157 [==============================] - 0s 923us/step\n",
      "Epoch 1/2\n"
     ]
    },
    {
     "name": "stderr",
     "output_type": "stream",
     "text": [
      "/Users/jiangyiwei/opt/anaconda3/lib/python3.9/site-packages/scikeras/wrappers.py:301: UserWarning: ``build_fn`` will be renamed to ``model`` in a future release, at which point use of ``build_fn`` will raise an Error instead.\n",
      "  warnings.warn(\n"
     ]
    },
    {
     "name": "stdout",
     "output_type": "stream",
     "text": [
      "157/157 [==============================] - 0s 1ms/step - loss: 1.4345 - accuracy: 0.4878\n",
      "Epoch 2/2\n",
      "157/157 [==============================] - 0s 1ms/step - loss: 1.1055 - accuracy: 0.6108\n",
      "157/157 [==============================] - 0s 637us/step\n",
      "Epoch 1/2\n"
     ]
    },
    {
     "name": "stderr",
     "output_type": "stream",
     "text": [
      "/Users/jiangyiwei/opt/anaconda3/lib/python3.9/site-packages/scikeras/wrappers.py:301: UserWarning: ``build_fn`` will be renamed to ``model`` in a future release, at which point use of ``build_fn`` will raise an Error instead.\n",
      "  warnings.warn(\n"
     ]
    },
    {
     "name": "stdout",
     "output_type": "stream",
     "text": [
      "157/157 [==============================] - 0s 1ms/step - loss: 1.4752 - accuracy: 0.4640\n",
      "Epoch 2/2\n",
      "157/157 [==============================] - 0s 1ms/step - loss: 1.1355 - accuracy: 0.5858\n",
      "157/157 [==============================] - 0s 608us/step\n",
      "Epoch 1/2\n"
     ]
    },
    {
     "name": "stderr",
     "output_type": "stream",
     "text": [
      "/Users/jiangyiwei/opt/anaconda3/lib/python3.9/site-packages/scikeras/wrappers.py:301: UserWarning: ``build_fn`` will be renamed to ``model`` in a future release, at which point use of ``build_fn`` will raise an Error instead.\n",
      "  warnings.warn(\n"
     ]
    },
    {
     "name": "stdout",
     "output_type": "stream",
     "text": [
      "157/157 [==============================] - 1s 2ms/step - loss: 1.7118 - accuracy: 0.4082\n",
      "Epoch 2/2\n",
      "157/157 [==============================] - 0s 3ms/step - loss: 0.8967 - accuracy: 0.6784\n",
      "157/157 [==============================] - 0s 910us/step\n",
      "Epoch 1/2\n"
     ]
    },
    {
     "name": "stderr",
     "output_type": "stream",
     "text": [
      "/Users/jiangyiwei/opt/anaconda3/lib/python3.9/site-packages/scikeras/wrappers.py:301: UserWarning: ``build_fn`` will be renamed to ``model`` in a future release, at which point use of ``build_fn`` will raise an Error instead.\n",
      "  warnings.warn(\n"
     ]
    },
    {
     "name": "stdout",
     "output_type": "stream",
     "text": [
      "157/157 [==============================] - 1s 2ms/step - loss: 1.7091 - accuracy: 0.4098\n",
      "Epoch 2/2\n",
      "157/157 [==============================] - 0s 2ms/step - loss: 0.8899 - accuracy: 0.6834\n",
      "157/157 [==============================] - 0s 871us/step\n",
      "Epoch 1/2\n"
     ]
    },
    {
     "name": "stderr",
     "output_type": "stream",
     "text": [
      "/Users/jiangyiwei/opt/anaconda3/lib/python3.9/site-packages/scikeras/wrappers.py:301: UserWarning: ``build_fn`` will be renamed to ``model`` in a future release, at which point use of ``build_fn`` will raise an Error instead.\n",
      "  warnings.warn(\n"
     ]
    },
    {
     "name": "stdout",
     "output_type": "stream",
     "text": [
      "157/157 [==============================] - 1s 1ms/step - loss: 2.0811 - accuracy: 0.3358\n",
      "Epoch 2/2\n",
      "157/157 [==============================] - 0s 1ms/step - loss: 1.4877 - accuracy: 0.4776\n",
      "157/157 [==============================] - 0s 607us/step\n",
      "Epoch 1/2\n"
     ]
    },
    {
     "name": "stderr",
     "output_type": "stream",
     "text": [
      "/Users/jiangyiwei/opt/anaconda3/lib/python3.9/site-packages/scikeras/wrappers.py:301: UserWarning: ``build_fn`` will be renamed to ``model`` in a future release, at which point use of ``build_fn`` will raise an Error instead.\n",
      "  warnings.warn(\n"
     ]
    },
    {
     "name": "stdout",
     "output_type": "stream",
     "text": [
      "157/157 [==============================] - 0s 1ms/step - loss: 2.0375 - accuracy: 0.2914\n",
      "Epoch 2/2\n",
      "157/157 [==============================] - 0s 1ms/step - loss: 1.5084 - accuracy: 0.4482\n",
      "157/157 [==============================] - 0s 592us/step\n",
      "Epoch 1/2\n"
     ]
    },
    {
     "name": "stderr",
     "output_type": "stream",
     "text": [
      "/Users/jiangyiwei/opt/anaconda3/lib/python3.9/site-packages/scikeras/wrappers.py:301: UserWarning: ``build_fn`` will be renamed to ``model`` in a future release, at which point use of ``build_fn`` will raise an Error instead.\n",
      "  warnings.warn(\n"
     ]
    },
    {
     "name": "stdout",
     "output_type": "stream",
     "text": [
      "157/157 [==============================] - 1s 3ms/step - loss: 1.2971 - accuracy: 0.5468\n",
      "Epoch 2/2\n",
      "157/157 [==============================] - 0s 2ms/step - loss: 0.9351 - accuracy: 0.6490\n",
      "157/157 [==============================] - 0s 883us/step\n",
      "Epoch 1/2\n"
     ]
    },
    {
     "name": "stderr",
     "output_type": "stream",
     "text": [
      "/Users/jiangyiwei/opt/anaconda3/lib/python3.9/site-packages/scikeras/wrappers.py:301: UserWarning: ``build_fn`` will be renamed to ``model`` in a future release, at which point use of ``build_fn`` will raise an Error instead.\n",
      "  warnings.warn(\n"
     ]
    },
    {
     "name": "stdout",
     "output_type": "stream",
     "text": [
      "157/157 [==============================] - 1s 2ms/step - loss: 2.3958 - accuracy: 0.0996\n",
      "Epoch 2/2\n",
      "157/157 [==============================] - 0s 3ms/step - loss: 2.3142 - accuracy: 0.0950\n",
      "157/157 [==============================] - 0s 853us/step\n",
      "Epoch 1/2\n"
     ]
    },
    {
     "name": "stderr",
     "output_type": "stream",
     "text": [
      "/Users/jiangyiwei/opt/anaconda3/lib/python3.9/site-packages/scikeras/wrappers.py:301: UserWarning: ``build_fn`` will be renamed to ``model`` in a future release, at which point use of ``build_fn`` will raise an Error instead.\n",
      "  warnings.warn(\n"
     ]
    },
    {
     "name": "stdout",
     "output_type": "stream",
     "text": [
      "157/157 [==============================] - 1s 2ms/step - loss: 2.0257 - accuracy: 0.2238\n",
      "Epoch 2/2\n",
      "157/157 [==============================] - 0s 2ms/step - loss: 1.8734 - accuracy: 0.2624\n",
      "157/157 [==============================] - 0s 840us/step\n",
      "Epoch 1/2\n"
     ]
    },
    {
     "name": "stderr",
     "output_type": "stream",
     "text": [
      "/Users/jiangyiwei/opt/anaconda3/lib/python3.9/site-packages/scikeras/wrappers.py:301: UserWarning: ``build_fn`` will be renamed to ``model`` in a future release, at which point use of ``build_fn`` will raise an Error instead.\n",
      "  warnings.warn(\n"
     ]
    },
    {
     "name": "stdout",
     "output_type": "stream",
     "text": [
      "157/157 [==============================] - 1s 2ms/step - loss: 2.3263 - accuracy: 0.1006\n",
      "Epoch 2/2\n",
      "157/157 [==============================] - 0s 2ms/step - loss: 2.3159 - accuracy: 0.0996\n",
      "157/157 [==============================] - 0s 675us/step\n"
     ]
    },
    {
     "name": "stderr",
     "output_type": "stream",
     "text": [
      "/Users/jiangyiwei/opt/anaconda3/lib/python3.9/site-packages/scikeras/wrappers.py:301: UserWarning: ``build_fn`` will be renamed to ``model`` in a future release, at which point use of ``build_fn`` will raise an Error instead.\n",
      "  warnings.warn(\n"
     ]
    },
    {
     "name": "stdout",
     "output_type": "stream",
     "text": [
      "Epoch 1/2\n",
      "157/157 [==============================] - 1s 4ms/step - loss: 0.9364 - accuracy: 0.6588\n",
      "Epoch 2/2\n",
      "157/157 [==============================] - 1s 3ms/step - loss: 0.6209 - accuracy: 0.7692\n",
      "157/157 [==============================] - 0s 868us/step\n",
      "Epoch 1/2\n"
     ]
    },
    {
     "name": "stderr",
     "output_type": "stream",
     "text": [
      "/Users/jiangyiwei/opt/anaconda3/lib/python3.9/site-packages/scikeras/wrappers.py:301: UserWarning: ``build_fn`` will be renamed to ``model`` in a future release, at which point use of ``build_fn`` will raise an Error instead.\n",
      "  warnings.warn(\n"
     ]
    },
    {
     "name": "stdout",
     "output_type": "stream",
     "text": [
      "157/157 [==============================] - 1s 3ms/step - loss: 0.8845 - accuracy: 0.6776\n",
      "Epoch 2/2\n",
      "157/157 [==============================] - 0s 3ms/step - loss: 0.5729 - accuracy: 0.7944\n",
      "157/157 [==============================] - 0s 850us/step\n",
      "Epoch 1/2\n"
     ]
    },
    {
     "name": "stderr",
     "output_type": "stream",
     "text": [
      "/Users/jiangyiwei/opt/anaconda3/lib/python3.9/site-packages/scikeras/wrappers.py:301: UserWarning: ``build_fn`` will be renamed to ``model`` in a future release, at which point use of ``build_fn`` will raise an Error instead.\n",
      "  warnings.warn(\n"
     ]
    },
    {
     "name": "stdout",
     "output_type": "stream",
     "text": [
      "157/157 [==============================] - 1s 2ms/step - loss: 1.2067 - accuracy: 0.5486\n",
      "Epoch 2/2\n",
      "157/157 [==============================] - 0s 2ms/step - loss: 0.8349 - accuracy: 0.6882\n",
      "157/157 [==============================] - 0s 616us/step\n",
      "Epoch 1/2\n"
     ]
    },
    {
     "name": "stderr",
     "output_type": "stream",
     "text": [
      "/Users/jiangyiwei/opt/anaconda3/lib/python3.9/site-packages/scikeras/wrappers.py:301: UserWarning: ``build_fn`` will be renamed to ``model`` in a future release, at which point use of ``build_fn`` will raise an Error instead.\n",
      "  warnings.warn(\n"
     ]
    },
    {
     "name": "stdout",
     "output_type": "stream",
     "text": [
      "157/157 [==============================] - 1s 2ms/step - loss: 1.2524 - accuracy: 0.5282\n",
      "Epoch 2/2\n",
      "157/157 [==============================] - 0s 2ms/step - loss: 0.8695 - accuracy: 0.6792\n",
      "157/157 [==============================] - 0s 621us/step\n",
      "Epoch 1/2\n"
     ]
    },
    {
     "name": "stderr",
     "output_type": "stream",
     "text": [
      "/Users/jiangyiwei/opt/anaconda3/lib/python3.9/site-packages/scikeras/wrappers.py:301: UserWarning: ``build_fn`` will be renamed to ``model`` in a future release, at which point use of ``build_fn`` will raise an Error instead.\n",
      "  warnings.warn(\n"
     ]
    },
    {
     "name": "stdout",
     "output_type": "stream",
     "text": [
      "157/157 [==============================] - 1s 3ms/step - loss: 1.4686 - accuracy: 0.4862\n",
      "Epoch 2/2\n",
      "157/157 [==============================] - 0s 2ms/step - loss: 0.7991 - accuracy: 0.7052\n",
      "157/157 [==============================] - 0s 899us/step\n",
      "Epoch 1/2\n"
     ]
    },
    {
     "name": "stderr",
     "output_type": "stream",
     "text": [
      "/Users/jiangyiwei/opt/anaconda3/lib/python3.9/site-packages/scikeras/wrappers.py:301: UserWarning: ``build_fn`` will be renamed to ``model`` in a future release, at which point use of ``build_fn`` will raise an Error instead.\n",
      "  warnings.warn(\n"
     ]
    },
    {
     "name": "stdout",
     "output_type": "stream",
     "text": [
      "157/157 [==============================] - 1s 2ms/step - loss: 1.4478 - accuracy: 0.4966\n",
      "Epoch 2/2\n",
      "157/157 [==============================] - 0s 3ms/step - loss: 0.7787 - accuracy: 0.7232\n",
      "157/157 [==============================] - 0s 867us/step\n",
      "Epoch 1/2\n"
     ]
    },
    {
     "name": "stderr",
     "output_type": "stream",
     "text": [
      "/Users/jiangyiwei/opt/anaconda3/lib/python3.9/site-packages/scikeras/wrappers.py:301: UserWarning: ``build_fn`` will be renamed to ``model`` in a future release, at which point use of ``build_fn`` will raise an Error instead.\n",
      "  warnings.warn(\n"
     ]
    },
    {
     "name": "stdout",
     "output_type": "stream",
     "text": [
      "157/157 [==============================] - 1s 2ms/step - loss: 1.8328 - accuracy: 0.3288\n",
      "Epoch 2/2\n",
      "157/157 [==============================] - 0s 2ms/step - loss: 1.2006 - accuracy: 0.5540\n",
      "157/157 [==============================] - 0s 636us/step\n",
      "Epoch 1/2\n"
     ]
    },
    {
     "name": "stderr",
     "output_type": "stream",
     "text": [
      "/Users/jiangyiwei/opt/anaconda3/lib/python3.9/site-packages/scikeras/wrappers.py:301: UserWarning: ``build_fn`` will be renamed to ``model`` in a future release, at which point use of ``build_fn`` will raise an Error instead.\n",
      "  warnings.warn(\n"
     ]
    },
    {
     "name": "stdout",
     "output_type": "stream",
     "text": [
      "157/157 [==============================] - 1s 2ms/step - loss: 1.8277 - accuracy: 0.3492\n",
      "Epoch 2/2\n",
      "157/157 [==============================] - 0s 2ms/step - loss: 1.2723 - accuracy: 0.5226\n",
      "157/157 [==============================] - 0s 727us/step\n",
      "Epoch 1/2\n"
     ]
    },
    {
     "name": "stderr",
     "output_type": "stream",
     "text": [
      "/Users/jiangyiwei/opt/anaconda3/lib/python3.9/site-packages/scikeras/wrappers.py:301: UserWarning: ``build_fn`` will be renamed to ``model`` in a future release, at which point use of ``build_fn`` will raise an Error instead.\n",
      "  warnings.warn(\n"
     ]
    },
    {
     "name": "stdout",
     "output_type": "stream",
     "text": [
      "313/313 [==============================] - 1s 3ms/step - loss: 0.7485 - accuracy: 0.7280\n",
      "Epoch 2/2\n",
      "313/313 [==============================] - 1s 3ms/step - loss: 0.5082 - accuracy: 0.8097\n"
     ]
    },
    {
     "data": {
      "text/plain": [
       "GridSearchCV(cv=2,\n",
       "             estimator=KerasClassifier(build_fn=<function build_cnn at 0x7fdc5940b550>, kernel_size=2, lr=0.001, strides=2),\n",
       "             param_grid={'kernel_size': [2, 3], 'lr': [0.1, 0.01, 0.001],\n",
       "                         'strides': [2, 4]})"
      ]
     },
     "execution_count": 27,
     "metadata": {},
     "output_type": "execute_result"
    }
   ],
   "source": [
    "param_grid = {\n",
    "    \"kernel_size\": [2, 3],\n",
    "    \"lr\": [0.1,0.01, 0.001],\n",
    "    \"strides\": [2, 4]\n",
    "}\n",
    "grid_search_cv = GridSearchCV(cnn_model, param_grid, cv=2)\n",
    "grid_search_cv.fit(X_train, y_train, epochs=2)"
   ]
  },
  {
   "cell_type": "code",
   "execution_count": 28,
   "id": "51a9dc91",
   "metadata": {},
   "outputs": [
    {
     "name": "stdout",
     "output_type": "stream",
     "text": [
      "0.804 {'kernel_size': 3, 'lr': 0.01, 'strides': 2}\n"
     ]
    }
   ],
   "source": [
    "print(grid_search_cv.best_score_, grid_search_cv.best_params_)"
   ]
  },
  {
   "cell_type": "code",
   "execution_count": 29,
   "id": "887b30c9",
   "metadata": {},
   "outputs": [
    {
     "data": {
      "text/plain": [
       "{'mean_fit_time': array([1.21623862, 0.75937676, 1.37372696, 0.75877893, 1.13100898,\n",
       "        0.76986158, 1.217623  , 1.04638147, 1.55129898, 1.0285604 ,\n",
       "        1.20983589, 1.06208003]),\n",
       " 'std_fit_time': array([0.08827937, 0.00928044, 0.20880997, 0.01012909, 0.03512704,\n",
       "        0.00386155, 0.02654195, 0.0264926 , 0.34843814, 0.04193759,\n",
       "        0.02805007, 0.00523007]),\n",
       " 'mean_score_time': array([0.23241806, 0.17151237, 0.22097862, 0.17361593, 0.21610701,\n",
       "        0.16972148, 0.21176398, 0.20533693, 0.21064746, 0.17282605,\n",
       "        0.21522295, 0.18456745]),\n",
       " 'std_score_time': array([0.0038631 , 0.00055838, 0.00146163, 0.00300193, 0.00519288,\n",
       "        0.00010765, 0.00276196, 0.01693809, 0.00264752, 0.00015593,\n",
       "        0.00319088, 0.00607944]),\n",
       " 'param_kernel_size': masked_array(data=[2, 2, 2, 2, 2, 2, 3, 3, 3, 3, 3, 3],\n",
       "              mask=[False, False, False, False, False, False, False, False,\n",
       "                    False, False, False, False],\n",
       "        fill_value='?',\n",
       "             dtype=object),\n",
       " 'param_lr': masked_array(data=[0.1, 0.1, 0.01, 0.01, 0.001, 0.001, 0.1, 0.1, 0.01,\n",
       "                    0.01, 0.001, 0.001],\n",
       "              mask=[False, False, False, False, False, False, False, False,\n",
       "                    False, False, False, False],\n",
       "        fill_value='?',\n",
       "             dtype=object),\n",
       " 'param_strides': masked_array(data=[2, 4, 2, 4, 2, 4, 2, 4, 2, 4, 2, 4],\n",
       "              mask=[False, False, False, False, False, False, False, False,\n",
       "                    False, False, False, False],\n",
       "        fill_value='?',\n",
       "             dtype=object),\n",
       " 'params': [{'kernel_size': 2, 'lr': 0.1, 'strides': 2},\n",
       "  {'kernel_size': 2, 'lr': 0.1, 'strides': 4},\n",
       "  {'kernel_size': 2, 'lr': 0.01, 'strides': 2},\n",
       "  {'kernel_size': 2, 'lr': 0.01, 'strides': 4},\n",
       "  {'kernel_size': 2, 'lr': 0.001, 'strides': 2},\n",
       "  {'kernel_size': 2, 'lr': 0.001, 'strides': 4},\n",
       "  {'kernel_size': 3, 'lr': 0.1, 'strides': 2},\n",
       "  {'kernel_size': 3, 'lr': 0.1, 'strides': 4},\n",
       "  {'kernel_size': 3, 'lr': 0.01, 'strides': 2},\n",
       "  {'kernel_size': 3, 'lr': 0.01, 'strides': 4},\n",
       "  {'kernel_size': 3, 'lr': 0.001, 'strides': 2},\n",
       "  {'kernel_size': 3, 'lr': 0.001, 'strides': 4}],\n",
       " 'split0_test_score': array([0.6402, 0.1028, 0.806 , 0.627 , 0.743 , 0.5864, 0.6602, 0.4216,\n",
       "        0.8114, 0.6828, 0.7624, 0.6342]),\n",
       " 'split1_test_score': array([0.1022, 0.5376, 0.7782, 0.6316, 0.721 , 0.5704, 0.1026, 0.099 ,\n",
       "        0.7966, 0.732 , 0.7574, 0.6202]),\n",
       " 'mean_test_score': array([0.3712, 0.3202, 0.7921, 0.6293, 0.732 , 0.5784, 0.3814, 0.2603,\n",
       "        0.804 , 0.7074, 0.7599, 0.6272]),\n",
       " 'std_test_score': array([0.269 , 0.2174, 0.0139, 0.0023, 0.011 , 0.008 , 0.2788, 0.1613,\n",
       "        0.0074, 0.0246, 0.0025, 0.007 ]),\n",
       " 'rank_test_score': array([10, 11,  2,  6,  4,  8,  9, 12,  1,  5,  3,  7], dtype=int32)}"
      ]
     },
     "execution_count": 29,
     "metadata": {},
     "output_type": "execute_result"
    }
   ],
   "source": [
    "grid_search_cv.cv_results_"
   ]
  },
  {
   "cell_type": "markdown",
   "id": "64dd754f",
   "metadata": {},
   "source": [
    "## 4. Final models\n",
    "In this section, please ensure to include cells to train each model with its best hyperparmater combination independently of the hyperparameter tuning cells, i.e. don't rely on the hyperparameter tuning cells having been run."
   ]
  },
  {
   "cell_type": "markdown",
   "id": "cf2dc5d4",
   "metadata": {},
   "source": [
    "### Algorithm of choice from first six weeks of course"
   ]
  },
  {
   "cell_type": "code",
   "execution_count": 30,
   "id": "fe1f70f0",
   "metadata": {},
   "outputs": [
    {
     "name": "stdout",
     "output_type": "stream",
     "text": [
      "Accuracy on test set: 0.82\n"
     ]
    }
   ],
   "source": [
    "knn = KNeighborsClassifier(n_neighbors=6)\n",
    "knn.fit(X_train, y_train)\n",
    "print(\"Accuracy on test set: {:.2f}\".format(knn.score(X_test, y_test)))"
   ]
  },
  {
   "cell_type": "markdown",
   "id": "32d57fdc",
   "metadata": {},
   "source": [
    "### Fully connected neural network"
   ]
  },
  {
   "cell_type": "code",
   "execution_count": 48,
   "id": "52addb78",
   "metadata": {},
   "outputs": [],
   "source": [
    "def build_mlp(n_hidden_layers=3, n_hidden_neurons=50, activation_function=\"tanh\"):\n",
    "    \n",
    "    model = keras.models.Sequential()\n",
    "    model.add(keras.layers.Dense(n_hidden_neurons,activation=activation_function, input_shape=(784,)))\n",
    "    for layer in range(n_hidden_layers):\n",
    "        model.add(keras.layers.Dense(n_hidden_neurons, activation=activation_function))\n",
    "    model.add(keras.layers.Dense(10, activation=\"softmax\"))\n",
    "    model.compile(loss='sparse_categorical_crossentropy',\n",
    "              optimizer=tf.keras.optimizers.SGD(learning_rate=0.1),\n",
    "              metrics=['accuracy'])\n",
    "    return model"
   ]
  },
  {
   "cell_type": "code",
   "execution_count": 52,
   "id": "5b7fa25d",
   "metadata": {},
   "outputs": [
    {
     "data": {
      "text/plain": [
       "((10000, 784), (10000,), (10000, 784), (10000,))"
      ]
     },
     "execution_count": 52,
     "metadata": {},
     "output_type": "execute_result"
    }
   ],
   "source": [
    "X_train.shape, y_train.shape,X_test.shape,y_test.shape"
   ]
  },
  {
   "cell_type": "code",
   "execution_count": 53,
   "id": "c741fb4f",
   "metadata": {},
   "outputs": [
    {
     "name": "stdout",
     "output_type": "stream",
     "text": [
      "Package                       Version\r\n",
      "----------------------------- --------------------\r\n",
      "absl-py                       1.2.0\r\n",
      "aiohttp                       3.8.1\r\n",
      "aiosignal                     1.2.0\r\n",
      "alabaster                     0.7.12\r\n",
      "anaconda-client               1.9.0\r\n",
      "anaconda-navigator            2.1.4\r\n",
      "anaconda-project              0.10.2\r\n",
      "anyio                         3.5.0\r\n",
      "appdirs                       1.4.4\r\n",
      "applaunchservices             0.2.1\r\n",
      "appnope                       0.1.2\r\n",
      "appscript                     1.1.2\r\n",
      "argon2-cffi                   21.3.0\r\n",
      "argon2-cffi-bindings          21.2.0\r\n",
      "arrow                         1.2.2\r\n",
      "astroid                       2.6.6\r\n",
      "astropy                       5.0.4\r\n",
      "asttokens                     2.0.5\r\n",
      "astunparse                    1.6.3\r\n",
      "async-timeout                 4.0.1\r\n",
      "atomicwrites                  1.4.0\r\n",
      "attrs                         21.4.0\r\n",
      "Automat                       20.2.0\r\n",
      "autopep8                      1.6.0\r\n",
      "Babel                         2.9.1\r\n",
      "backcall                      0.2.0\r\n",
      "backports.functools-lru-cache 1.6.4\r\n",
      "backports.tempfile            1.0\r\n",
      "backports.weakref             1.0.post1\r\n",
      "bcrypt                        3.2.0\r\n",
      "beautifulsoup4                4.11.1\r\n",
      "binaryornot                   0.4.4\r\n",
      "bitarray                      2.4.1\r\n",
      "bkcharts                      0.2\r\n",
      "black                         19.10b0\r\n",
      "bleach                        4.1.0\r\n",
      "bokeh                         2.4.2\r\n",
      "boto3                         1.21.32\r\n",
      "botocore                      1.24.32\r\n",
      "Bottleneck                    1.3.4\r\n",
      "brotlipy                      0.7.0\r\n",
      "cachetools                    4.2.2\r\n",
      "certifi                       2021.10.8\r\n",
      "cffi                          1.15.0\r\n",
      "chardet                       4.0.0\r\n",
      "charset-normalizer            2.0.4\r\n",
      "click                         8.0.4\r\n",
      "cloudpickle                   2.0.0\r\n",
      "clyent                        1.2.2\r\n",
      "colorama                      0.4.4\r\n",
      "colorcet                      2.0.6\r\n",
      "conda                         4.12.0\r\n",
      "conda-build                   3.21.8\r\n",
      "conda-content-trust           0+unknown\r\n",
      "conda-pack                    0.6.0\r\n",
      "conda-package-handling        1.8.1\r\n",
      "conda-repo-cli                1.0.4\r\n",
      "conda-token                   0.3.0\r\n",
      "conda-verify                  3.4.2\r\n",
      "constantly                    15.1.0\r\n",
      "cookiecutter                  1.7.3\r\n",
      "cryptography                  3.4.8\r\n",
      "cssselect                     1.1.0\r\n",
      "cycler                        0.11.0\r\n",
      "Cython                        0.29.28\r\n",
      "cytoolz                       0.11.0\r\n",
      "daal4py                       2021.5.0\r\n",
      "dask                          2022.2.1\r\n",
      "datashader                    0.13.0\r\n",
      "datashape                     0.5.4\r\n",
      "debugpy                       1.5.1\r\n",
      "decorator                     5.1.1\r\n",
      "defusedxml                    0.7.1\r\n",
      "diff-match-patch              20200713\r\n",
      "dill                          0.3.5.1\r\n",
      "distributed                   2022.2.1\r\n",
      "docutils                      0.17.1\r\n",
      "entrypoints                   0.4\r\n",
      "et-xmlfile                    1.1.0\r\n",
      "etils                         0.8.0\r\n",
      "executing                     0.8.3\r\n",
      "fastjsonschema                2.15.1\r\n",
      "filelock                      3.6.0\r\n",
      "flake8                        3.9.2\r\n",
      "Flask                         1.1.2\r\n",
      "flatbuffers                   2.0.7\r\n",
      "fonttools                     4.25.0\r\n",
      "frozenlist                    1.2.0\r\n",
      "fsspec                        2022.2.0\r\n",
      "future                        0.18.2\r\n",
      "gast                          0.4.0\r\n",
      "gensim                        4.1.2\r\n",
      "glob2                         0.7\r\n",
      "gmpy2                         2.1.2\r\n",
      "google-api-core               1.25.1\r\n",
      "google-auth                   1.33.0\r\n",
      "google-auth-oauthlib          0.4.6\r\n",
      "google-cloud-core             1.7.1\r\n",
      "google-cloud-storage          1.31.0\r\n",
      "google-crc32c                 1.1.2\r\n",
      "google-pasta                  0.2.0\r\n",
      "google-resumable-media        1.3.1\r\n",
      "googleapis-common-protos      1.53.0\r\n",
      "greenlet                      1.1.1\r\n",
      "grpcio                        1.42.0\r\n",
      "h5py                          3.6.0\r\n",
      "HeapDict                      1.0.1\r\n",
      "holoviews                     1.14.8\r\n",
      "hvplot                        0.7.3\r\n",
      "hyperlink                     21.0.0\r\n",
      "idna                          3.3\r\n",
      "imagecodecs                   2021.8.26\r\n",
      "imageio                       2.9.0\r\n",
      "imagesize                     1.3.0\r\n",
      "importlib-metadata            4.11.3\r\n",
      "importlib-resources           5.10.0\r\n",
      "incremental                   21.3.0\r\n",
      "inflection                    0.5.1\r\n",
      "iniconfig                     1.1.1\r\n",
      "intake                        0.6.5\r\n",
      "intervaltree                  3.1.0\r\n",
      "ipykernel                     6.9.1\r\n",
      "ipython                       8.2.0\r\n",
      "ipython-genutils              0.2.0\r\n",
      "ipywidgets                    7.6.5\r\n",
      "isort                         5.9.3\r\n",
      "itemadapter                   0.3.0\r\n",
      "itemloaders                   1.0.4\r\n",
      "itsdangerous                  2.0.1\r\n",
      "jdcal                         1.4.1\r\n",
      "jedi                          0.18.1\r\n",
      "Jinja2                        2.11.3\r\n",
      "jinja2-time                   0.2.0\r\n",
      "jmespath                      0.10.0\r\n",
      "joblib                        1.1.0\r\n",
      "json5                         0.9.6\r\n",
      "jsonschema                    4.4.0\r\n",
      "jupyter                       1.0.0\r\n",
      "jupyter-client                6.1.12\r\n",
      "jupyter-console               6.4.0\r\n",
      "jupyter-core                  4.9.2\r\n",
      "jupyter-server                1.13.5\r\n",
      "jupyterlab                    3.3.2\r\n",
      "jupyterlab-pygments           0.1.2\r\n",
      "jupyterlab-server             2.10.3\r\n",
      "jupyterlab-widgets            1.0.0\r\n",
      "keras                         2.7.0\r\n",
      "Keras-Preprocessing           1.1.2\r\n",
      "keyring                       23.4.0\r\n",
      "kiwisolver                    1.3.2\r\n",
      "lazy-object-proxy             1.6.0\r\n",
      "libarchive-c                  2.9\r\n",
      "libclang                      14.0.6\r\n",
      "llvmlite                      0.38.0\r\n",
      "locket                        0.2.1\r\n",
      "lxml                          4.8.0\r\n",
      "Markdown                      3.3.4\r\n",
      "MarkupSafe                    2.0.1\r\n",
      "matplotlib                    3.5.1\r\n",
      "matplotlib-inline             0.1.2\r\n",
      "mccabe                        0.6.1\r\n",
      "mistune                       0.8.4\r\n",
      "mkl-fft                       1.3.1\r\n",
      "mkl-random                    1.2.2\r\n",
      "mkl-service                   2.4.0\r\n",
      "mock                          4.0.3\r\n",
      "mpmath                        1.2.1\r\n",
      "msgpack                       1.0.2\r\n",
      "multidict                     5.2.0\r\n",
      "multipledispatch              0.6.0\r\n",
      "munkres                       1.1.4\r\n",
      "mypy-extensions               0.4.3\r\n",
      "navigator-updater             0.2.1\r\n",
      "nbclassic                     0.3.5\r\n",
      "nbclient                      0.5.13\r\n",
      "nbconvert                     6.4.4\r\n",
      "nbformat                      5.3.0\r\n",
      "nest-asyncio                  1.5.5\r\n",
      "networkx                      2.7.1\r\n",
      "nltk                          3.7\r\n",
      "nose                          1.3.7\r\n",
      "notebook                      6.4.8\r\n",
      "numba                         0.55.1\r\n",
      "numexpr                       2.8.1\r\n",
      "numpy                         1.21.5\r\n",
      "numpydoc                      1.2\r\n",
      "oauthlib                      3.2.1\r\n",
      "olefile                       0.46\r\n",
      "openpyxl                      3.0.9\r\n",
      "opt-einsum                    3.3.0\r\n",
      "packaging                     21.3\r\n",
      "pandas                        1.4.2\r\n",
      "pandocfilters                 1.5.0\r\n",
      "panel                         0.13.0\r\n",
      "param                         1.12.0\r\n",
      "parsel                        1.6.0\r\n",
      "parso                         0.8.3\r\n",
      "partd                         1.2.0\r\n",
      "pathspec                      0.7.0\r\n",
      "patsy                         0.5.2\r\n",
      "pep8                          1.7.1\r\n",
      "pexpect                       4.8.0\r\n",
      "pickleshare                   0.7.5\r\n",
      "Pillow                        9.0.1\r\n",
      "pip                           21.2.4\r\n",
      "pkginfo                       1.8.2\r\n",
      "plotly                        5.6.0\r\n",
      "pluggy                        1.0.0\r\n",
      "poyo                          0.5.0\r\n",
      "prometheus-client             0.13.1\r\n",
      "promise                       2.3\r\n",
      "prompt-toolkit                3.0.20\r\n",
      "Protego                       0.1.16\r\n",
      "protobuf                      3.19.1\r\n",
      "psutil                        5.8.0\r\n",
      "ptyprocess                    0.7.0\r\n",
      "pure-eval                     0.2.2\r\n",
      "py                            1.11.0\r\n",
      "pyasn1                        0.4.8\r\n",
      "pyasn1-modules                0.2.8\r\n",
      "pycodestyle                   2.7.0\r\n",
      "pycosat                       0.6.3\r\n",
      "pycparser                     2.21\r\n",
      "pyct                          0.4.6\r\n",
      "pycurl                        7.44.1\r\n",
      "PyDispatcher                  2.0.5\r\n",
      "pydocstyle                    6.1.1\r\n",
      "pyerfa                        2.0.0\r\n",
      "pyflakes                      2.3.1\r\n",
      "Pygments                      2.11.2\r\n",
      "PyHamcrest                    2.0.2\r\n",
      "PyJWT                         2.1.0\r\n",
      "pylint                        2.9.6\r\n",
      "pyls-spyder                   0.4.0\r\n",
      "pyodbc                        4.0.32\r\n",
      "pyOpenSSL                     21.0.0\r\n",
      "pyparsing                     3.0.4\r\n",
      "pyrsistent                    0.18.0\r\n",
      "PySocks                       1.7.1\r\n",
      "pytest                        7.1.1\r\n",
      "python-dateutil               2.8.2\r\n",
      "python-lsp-black              1.0.0\r\n",
      "python-lsp-jsonrpc            1.0.0\r\n",
      "python-lsp-server             1.2.4\r\n",
      "python-slugify                5.0.2\r\n",
      "python-snappy                 0.6.0\r\n",
      "pytz                          2021.3\r\n",
      "pyviz-comms                   2.0.2\r\n",
      "PyWavelets                    1.3.0\r\n",
      "PyYAML                        6.0\r\n",
      "pyzmq                         22.3.0\r\n",
      "QDarkStyle                    3.0.2\r\n",
      "qstylizer                     0.1.10\r\n",
      "QtAwesome                     1.0.3\r\n",
      "qtconsole                     5.3.0\r\n",
      "QtPy                          2.0.1\r\n",
      "queuelib                      1.5.0\r\n",
      "regex                         2022.3.15\r\n",
      "requests                      2.27.1\r\n",
      "requests-file                 1.5.1\r\n",
      "requests-oauthlib             1.3.1\r\n",
      "rope                          0.22.0\r\n",
      "rsa                           4.7.2\r\n",
      "Rtree                         0.9.7\r\n",
      "ruamel-yaml-conda             0.15.100\r\n",
      "s3transfer                    0.5.0\r\n",
      "scikeras                      0.9.0\r\n",
      "scikit-image                  0.19.2\r\n",
      "scikit-learn                  1.0.2\r\n",
      "scikit-learn-intelex          2021.20220215.132722\r\n",
      "scipy                         1.7.3\r\n",
      "Scrapy                        2.6.1\r\n",
      "seaborn                       0.11.2\r\n",
      "Send2Trash                    1.8.0\r\n",
      "service-identity              18.1.0\r\n",
      "setuptools                    61.2.0\r\n",
      "sip                           4.19.13\r\n",
      "six                           1.16.0\r\n",
      "smart-open                    5.1.0\r\n",
      "sniffio                       1.2.0\r\n",
      "snowballstemmer               2.2.0\r\n",
      "sortedcollections             2.1.0\r\n",
      "sortedcontainers              2.4.0\r\n",
      "soupsieve                     2.3.1\r\n",
      "Sphinx                        4.4.0\r\n",
      "sphinxcontrib-applehelp       1.0.2\r\n",
      "sphinxcontrib-devhelp         1.0.2\r\n",
      "sphinxcontrib-htmlhelp        2.0.0\r\n",
      "sphinxcontrib-jsmath          1.0.1\r\n",
      "sphinxcontrib-qthelp          1.0.3\r\n",
      "sphinxcontrib-serializinghtml 1.1.5\r\n",
      "spyder                        5.1.5\r\n",
      "spyder-kernels                2.1.3\r\n",
      "SQLAlchemy                    1.4.32\r\n",
      "stack-data                    0.2.0\r\n",
      "statsmodels                   0.13.2\r\n",
      "sympy                         1.10.1\r\n",
      "tables                        3.6.1\r\n",
      "tabulate                      0.8.9\r\n",
      "TBB                           0.2\r\n",
      "tblib                         1.7.0\r\n",
      "tenacity                      8.0.1\r\n",
      "tensorboard                   2.10.0\r\n",
      "tensorboard-data-server       0.6.1\r\n",
      "tensorboard-plugin-wit        1.8.1\r\n",
      "tensorflow                    2.7.0\r\n",
      "tensorflow-datasets           4.7.0\r\n",
      "tensorflow-estimator          2.7.0\r\n",
      "tensorflow-io-gcs-filesystem  0.27.0\r\n",
      "tensorflow-metadata           1.10.0\r\n",
      "termcolor                     2.0.1\r\n",
      "terminado                     0.13.1\r\n",
      "testpath                      0.5.0\r\n",
      "text-unidecode                1.3\r\n",
      "textdistance                  4.2.1\r\n",
      "threadpoolctl                 2.2.0\r\n",
      "three-merge                   0.1.1\r\n",
      "tifffile                      2021.7.2\r\n",
      "tinycss                       0.4\r\n",
      "tldextract                    3.2.0\r\n",
      "toml                          0.10.2\r\n",
      "tomli                         1.2.2\r\n",
      "toolz                         0.11.2\r\n",
      "tornado                       6.1\r\n",
      "tqdm                          4.64.0\r\n",
      "traitlets                     5.1.1\r\n",
      "Twisted                       22.2.0\r\n",
      "typed-ast                     1.4.3\r\n",
      "typing_extensions             4.1.1\r\n",
      "ujson                         5.1.0\r\n",
      "Unidecode                     1.2.0\r\n",
      "urllib3                       1.26.9\r\n",
      "w3lib                         1.21.0\r\n",
      "watchdog                      2.1.6\r\n",
      "wcwidth                       0.2.5\r\n",
      "webencodings                  0.5.1\r\n",
      "websocket-client              0.58.0\r\n",
      "Werkzeug                      2.0.3\r\n",
      "wheel                         0.37.1\r\n",
      "widgetsnbextension            3.5.2\r\n",
      "wrapt                         1.12.1\r\n",
      "wurlitzer                     3.0.2\r\n",
      "xarray                        0.20.1\r\n",
      "xlrd                          2.0.1\r\n",
      "XlsxWriter                    3.0.3\r\n",
      "xlwings                       0.24.9\r\n",
      "yapf                          0.31.0\r\n",
      "yarl                          1.6.3\r\n",
      "zict                          2.0.0\r\n",
      "zipp                          3.7.0\r\n",
      "zope.interface                5.4.0\r\n"
     ]
    }
   ],
   "source": [
    "!pip list"
   ]
  },
  {
   "cell_type": "code",
   "execution_count": 49,
   "id": "213949ef",
   "metadata": {},
   "outputs": [
    {
     "name": "stdout",
     "output_type": "stream",
     "text": [
      "Epoch 1/10\n",
      "79/79 [==============================] - 1s 4ms/step - loss: 2.3033 - accuracy: 0.1038 - val_loss: 2.3041 - val_accuracy: 0.1000\n",
      "Epoch 2/10\n",
      "79/79 [==============================] - 0s 3ms/step - loss: 2.3025 - accuracy: 0.1047 - val_loss: 2.3057 - val_accuracy: 0.1000\n",
      "Epoch 3/10\n",
      "79/79 [==============================] - 0s 3ms/step - loss: 2.3025 - accuracy: 0.1090 - val_loss: 2.3021 - val_accuracy: 0.1000\n",
      "Epoch 4/10\n",
      "79/79 [==============================] - 0s 3ms/step - loss: 2.3011 - accuracy: 0.1105 - val_loss: 2.3002 - val_accuracy: 0.1000\n",
      "Epoch 5/10\n",
      "79/79 [==============================] - 0s 3ms/step - loss: 2.3001 - accuracy: 0.1108 - val_loss: 2.3004 - val_accuracy: 0.1000\n",
      "Epoch 6/10\n",
      "79/79 [==============================] - 0s 3ms/step - loss: 2.2986 - accuracy: 0.1084 - val_loss: 2.2984 - val_accuracy: 0.1000\n",
      "Epoch 7/10\n",
      "79/79 [==============================] - 0s 3ms/step - loss: 2.2971 - accuracy: 0.1282 - val_loss: 2.2959 - val_accuracy: 0.1075\n",
      "Epoch 8/10\n",
      "79/79 [==============================] - 0s 3ms/step - loss: 2.2946 - accuracy: 0.1302 - val_loss: 2.2940 - val_accuracy: 0.1000\n",
      "Epoch 9/10\n",
      "79/79 [==============================] - 0s 3ms/step - loss: 2.2910 - accuracy: 0.1452 - val_loss: 2.2989 - val_accuracy: 0.1203\n",
      "Epoch 10/10\n",
      "79/79 [==============================] - 0s 3ms/step - loss: 2.2850 - accuracy: 0.1565 - val_loss: 2.2900 - val_accuracy: 0.1000\n"
     ]
    }
   ],
   "source": [
    "model = build_mlp()\n",
    "batch_size = 128\n",
    "epochs = 10\n",
    "history = model.fit(X_train, y_train, batch_size=batch_size,\n",
    "                    epochs=epochs, validation_data=(X_test, y_test))"
   ]
  },
  {
   "cell_type": "code",
   "execution_count": 34,
   "id": "7b529781",
   "metadata": {},
   "outputs": [
    {
     "name": "stdout",
     "output_type": "stream",
     "text": [
      "313/313 [==============================] - 0s 1ms/step - loss: 2.4478 - accuracy: 0.1000\n",
      "Accuracy on test data: 0.1000\n"
     ]
    }
   ],
   "source": [
    "# Evaluate the classifier on the test data.\n",
    "loss, accuracy = model.evaluate(X_test, y_test)\n",
    "print(f\"Accuracy on test data: {accuracy:.4f}\")"
   ]
  },
  {
   "cell_type": "markdown",
   "id": "78b41f5c",
   "metadata": {},
   "source": [
    "### Convolutional neural network"
   ]
  },
  {
   "cell_type": "code",
   "execution_count": 35,
   "id": "28588676",
   "metadata": {},
   "outputs": [],
   "source": [
    "def build_cnn(kernel_size=3, strides=2, lr=0.01):\n",
    "    model = keras.models.Sequential()\n",
    "    # Specify the input shape\n",
    "    model.add(keras.Input(shape=784))\n",
    "    \n",
    "    #reshape tensor\n",
    "    model.add(keras.layers.Reshape((28,28,1)))\n",
    "    model.add(keras.layers.Conv2D(16, kernel_size=kernel_size, strides=strides, activation='relu'))\n",
    "    # model.add(keras.layers.MaxPooling2D(pool_size=(2, 2)))\n",
    "    model.add(keras.layers.Conv2D(32, kernel_size=kernel_size, strides=strides, activation='relu'))\n",
    "    model.add(keras.layers.MaxPooling2D(pool_size=(2, 2)))\n",
    "    model.add(keras.layers.Flatten())\n",
    "    model.add(keras.layers.Dropout(0.2))\n",
    "    model.add(keras.layers.Dense(10, activation=\"softmax\"))\n",
    "    # model.compile(\"adam\", \"binary_crossentropy\", metrics=[\"accuracy\"])\n",
    "    model.compile(loss='sparse_categorical_crossentropy',\n",
    "              optimizer=tf.keras.optimizers.Adam(learning_rate=lr),\n",
    "              metrics=['accuracy'])\n",
    "    return model"
   ]
  },
  {
   "cell_type": "code",
   "execution_count": 36,
   "id": "91d1f1ad",
   "metadata": {},
   "outputs": [
    {
     "name": "stdout",
     "output_type": "stream",
     "text": [
      "Epoch 1/10\n",
      "79/79 [==============================] - 0s 4ms/step - loss: 2.4782 - accuracy: 0.0953 - val_loss: 2.6165 - val_accuracy: 0.1000\n",
      "Epoch 2/10\n",
      "79/79 [==============================] - 0s 3ms/step - loss: 2.4678 - accuracy: 0.0994 - val_loss: 2.8635 - val_accuracy: 0.1000\n",
      "Epoch 3/10\n",
      "79/79 [==============================] - 0s 3ms/step - loss: 2.5930 - accuracy: 0.1008 - val_loss: 2.5498 - val_accuracy: 0.1000\n",
      "Epoch 4/10\n",
      "79/79 [==============================] - 0s 3ms/step - loss: 2.4794 - accuracy: 0.0957 - val_loss: 2.5282 - val_accuracy: 0.1000\n",
      "Epoch 5/10\n",
      "79/79 [==============================] - 0s 2ms/step - loss: 2.5046 - accuracy: 0.0982 - val_loss: 2.5479 - val_accuracy: 0.1000\n",
      "Epoch 6/10\n",
      "79/79 [==============================] - 0s 3ms/step - loss: 2.4683 - accuracy: 0.1063 - val_loss: 2.6823 - val_accuracy: 0.1000\n",
      "Epoch 7/10\n",
      "79/79 [==============================] - 0s 3ms/step - loss: 2.4745 - accuracy: 0.0990 - val_loss: 2.4633 - val_accuracy: 0.1000\n",
      "Epoch 8/10\n",
      "79/79 [==============================] - 0s 2ms/step - loss: 2.4875 - accuracy: 0.1003 - val_loss: 2.8372 - val_accuracy: 0.1000\n",
      "Epoch 9/10\n",
      "79/79 [==============================] - 0s 2ms/step - loss: 2.5113 - accuracy: 0.1005 - val_loss: 2.6526 - val_accuracy: 0.1000\n",
      "Epoch 10/10\n",
      "79/79 [==============================] - 0s 3ms/step - loss: 2.5424 - accuracy: 0.1001 - val_loss: 2.7949 - val_accuracy: 0.1000\n"
     ]
    }
   ],
   "source": [
    "\n",
    "batch_size = 128\n",
    "epochs = 10\n",
    "history = model.fit(X_train, y_train, batch_size=batch_size,\n",
    "                    epochs=epochs, validation_data=(X_test, y_test))"
   ]
  },
  {
   "cell_type": "code",
   "execution_count": 37,
   "id": "a03bfc4f",
   "metadata": {},
   "outputs": [
    {
     "name": "stdout",
     "output_type": "stream",
     "text": [
      "313/313 [==============================] - 0s 974us/step - loss: 2.7949 - accuracy: 0.1000\n",
      "Accuracy on test data: 0.1000\n"
     ]
    }
   ],
   "source": [
    "# Evaluate the classifier on the test data.\n",
    "loss, accuracy = model.evaluate(X_test, y_test)\n",
    "print(f\"Accuracy on test data: {accuracy:.4f}\")"
   ]
  },
  {
   "cell_type": "code",
   "execution_count": null,
   "id": "daf3cb45",
   "metadata": {},
   "outputs": [],
   "source": []
  }
 ],
 "metadata": {
  "kernelspec": {
   "display_name": "Python 3 (ipykernel)",
   "language": "python",
   "name": "python3"
  },
  "language_info": {
   "codemirror_mode": {
    "name": "ipython",
    "version": 3
   },
   "file_extension": ".py",
   "mimetype": "text/x-python",
   "name": "python",
   "nbconvert_exporter": "python",
   "pygments_lexer": "ipython3",
   "version": "3.9.12"
  }
 },
 "nbformat": 4,
 "nbformat_minor": 5
}
